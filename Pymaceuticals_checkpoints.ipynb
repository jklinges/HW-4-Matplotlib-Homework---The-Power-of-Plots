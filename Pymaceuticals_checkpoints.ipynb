{
 "cells": [
  {
   "cell_type": "markdown",
   "metadata": {
    "scrolled": true
   },
   "source": [
    "# Observations and Analysis:\n",
    "\n",
    "1) Drawing on large trial size, Copomulin was the most effective drug in terms of decreasing tumor volume versus its leading competitors.  \n",
    "2) Tumor volume with Copomulin mice decreased over time (see line plot).\n",
    "3) Drug trials were distributed fairly equally between male and female mice (see pie charts)"
   ]
  },
  {
   "cell_type": "markdown",
   "metadata": {},
   "source": [
    "\n",
    "\n",
    "## Dependencies and starter code"
   ]
  },
  {
   "cell_type": "code",
   "execution_count": 58,
   "metadata": {},
   "outputs": [
    {
     "data": {
      "text/html": [
       "<div>\n",
       "<style scoped>\n",
       "    .dataframe tbody tr th:only-of-type {\n",
       "        vertical-align: middle;\n",
       "    }\n",
       "\n",
       "    .dataframe tbody tr th {\n",
       "        vertical-align: top;\n",
       "    }\n",
       "\n",
       "    .dataframe thead th {\n",
       "        text-align: right;\n",
       "    }\n",
       "</style>\n",
       "<table border=\"1\" class=\"dataframe\">\n",
       "  <thead>\n",
       "    <tr style=\"text-align: right;\">\n",
       "      <th></th>\n",
       "      <th>Mouse ID</th>\n",
       "      <th>Drug Regimen</th>\n",
       "      <th>Sex</th>\n",
       "      <th>Age_months</th>\n",
       "      <th>Weight (g)</th>\n",
       "      <th>Timepoint</th>\n",
       "      <th>Tumor Volume (mm3)</th>\n",
       "      <th>Metastatic Sites</th>\n",
       "    </tr>\n",
       "  </thead>\n",
       "  <tbody>\n",
       "    <tr>\n",
       "      <th>0</th>\n",
       "      <td>k403</td>\n",
       "      <td>Ramicane</td>\n",
       "      <td>Male</td>\n",
       "      <td>21</td>\n",
       "      <td>16</td>\n",
       "      <td>0</td>\n",
       "      <td>45.000000</td>\n",
       "      <td>0</td>\n",
       "    </tr>\n",
       "    <tr>\n",
       "      <th>1</th>\n",
       "      <td>k403</td>\n",
       "      <td>Ramicane</td>\n",
       "      <td>Male</td>\n",
       "      <td>21</td>\n",
       "      <td>16</td>\n",
       "      <td>5</td>\n",
       "      <td>38.825898</td>\n",
       "      <td>0</td>\n",
       "    </tr>\n",
       "    <tr>\n",
       "      <th>2</th>\n",
       "      <td>k403</td>\n",
       "      <td>Ramicane</td>\n",
       "      <td>Male</td>\n",
       "      <td>21</td>\n",
       "      <td>16</td>\n",
       "      <td>10</td>\n",
       "      <td>35.014271</td>\n",
       "      <td>1</td>\n",
       "    </tr>\n",
       "    <tr>\n",
       "      <th>3</th>\n",
       "      <td>k403</td>\n",
       "      <td>Ramicane</td>\n",
       "      <td>Male</td>\n",
       "      <td>21</td>\n",
       "      <td>16</td>\n",
       "      <td>15</td>\n",
       "      <td>34.223992</td>\n",
       "      <td>1</td>\n",
       "    </tr>\n",
       "    <tr>\n",
       "      <th>4</th>\n",
       "      <td>k403</td>\n",
       "      <td>Ramicane</td>\n",
       "      <td>Male</td>\n",
       "      <td>21</td>\n",
       "      <td>16</td>\n",
       "      <td>20</td>\n",
       "      <td>32.997729</td>\n",
       "      <td>1</td>\n",
       "    </tr>\n",
       "  </tbody>\n",
       "</table>\n",
       "</div>"
      ],
      "text/plain": [
       "  Mouse ID Drug Regimen   Sex  Age_months  Weight (g)  Timepoint  \\\n",
       "0     k403     Ramicane  Male          21          16          0   \n",
       "1     k403     Ramicane  Male          21          16          5   \n",
       "2     k403     Ramicane  Male          21          16         10   \n",
       "3     k403     Ramicane  Male          21          16         15   \n",
       "4     k403     Ramicane  Male          21          16         20   \n",
       "\n",
       "   Tumor Volume (mm3)  Metastatic Sites  \n",
       "0           45.000000                 0  \n",
       "1           38.825898                 0  \n",
       "2           35.014271                 1  \n",
       "3           34.223992                 1  \n",
       "4           32.997729                 1  "
      ]
     },
     "execution_count": 58,
     "metadata": {},
     "output_type": "execute_result"
    }
   ],
   "source": [
    "# Dependencies and Setup\n",
    "import matplotlib.pyplot as plt\n",
    "import pandas as pd\n",
    "import numpy as np\n",
    "import scipy.stats as st\n",
    "from scipy.stats import linregress\n",
    "\n",
    "# Study data files\n",
    "mouse_metadata = \"Mouse_metadata.csv\"\n",
    "study_results = \"Study_results.csv\"\n",
    "\n",
    "# Read the mouse data and the study results\n",
    "mouse_metadata = pd.read_csv(mouse_metadata)\n",
    "study_results = pd.read_csv(study_results)\n",
    "\n",
    "# look at smaple data and determine best way to combine\n",
    "# mouse_metadata.head()\n",
    "# study_results.head()\n",
    "\n",
    "# Create a clean DataFrame by dropping the duplicate mouse by its ID. Check the number of mice.\n",
    "#Combine the data into a single dataset, merge on Mouse ID\n",
    "combined_data = pd.merge(mouse_metadata, study_results, how = \"outer\", on = \"Mouse ID\")\n",
    "combined_data.head()\n",
    "\n",
    "# Check for blank data\n",
    "# combined_data.count()"
   ]
  },
  {
   "cell_type": "code",
   "execution_count": 60,
   "metadata": {},
   "outputs": [],
   "source": [
    "#DataFrames\n",
    "\n",
    "mouse_df = pd.read_csv(\"Mouse_metadata.csv\")\n",
    "study_df = pd.read_csv(\"Study_results.csv\")"
   ]
  },
  {
   "cell_type": "code",
   "execution_count": 61,
   "metadata": {},
   "outputs": [
    {
     "data": {
      "text/html": [
       "<div>\n",
       "<style scoped>\n",
       "    .dataframe tbody tr th:only-of-type {\n",
       "        vertical-align: middle;\n",
       "    }\n",
       "\n",
       "    .dataframe tbody tr th {\n",
       "        vertical-align: top;\n",
       "    }\n",
       "\n",
       "    .dataframe thead th {\n",
       "        text-align: right;\n",
       "    }\n",
       "</style>\n",
       "<table border=\"1\" class=\"dataframe\">\n",
       "  <thead>\n",
       "    <tr style=\"text-align: right;\">\n",
       "      <th></th>\n",
       "      <th>Mouse ID</th>\n",
       "      <th>Drug Regimen</th>\n",
       "      <th>Sex</th>\n",
       "      <th>Age_months</th>\n",
       "      <th>Weight (g)</th>\n",
       "      <th>Timepoint</th>\n",
       "      <th>Tumor Volume (mm3)</th>\n",
       "      <th>Metastatic Sites</th>\n",
       "    </tr>\n",
       "  </thead>\n",
       "  <tbody>\n",
       "    <tr>\n",
       "      <th>0</th>\n",
       "      <td>k403</td>\n",
       "      <td>Ramicane</td>\n",
       "      <td>Male</td>\n",
       "      <td>21</td>\n",
       "      <td>16</td>\n",
       "      <td>0</td>\n",
       "      <td>45.0</td>\n",
       "      <td>0</td>\n",
       "    </tr>\n",
       "  </tbody>\n",
       "</table>\n",
       "</div>"
      ],
      "text/plain": [
       "  Mouse ID Drug Regimen   Sex  Age_months  Weight (g)  Timepoint  \\\n",
       "0     k403     Ramicane  Male          21          16          0   \n",
       "\n",
       "   Tumor Volume (mm3)  Metastatic Sites  \n",
       "0                45.0                 0  "
      ]
     },
     "execution_count": 61,
     "metadata": {},
     "output_type": "execute_result"
    }
   ],
   "source": [
    "df = pd.merge(mouse_df, study_df, on=\"Mouse ID\")\n",
    "df.head(1)"
   ]
  },
  {
   "cell_type": "markdown",
   "metadata": {},
   "source": [
    "## Summary statistics"
   ]
  },
  {
   "cell_type": "code",
   "execution_count": 62,
   "metadata": {},
   "outputs": [
    {
     "data": {
      "text/html": [
       "<div>\n",
       "<style scoped>\n",
       "    .dataframe tbody tr th:only-of-type {\n",
       "        vertical-align: middle;\n",
       "    }\n",
       "\n",
       "    .dataframe tbody tr th {\n",
       "        vertical-align: top;\n",
       "    }\n",
       "\n",
       "    .dataframe thead th {\n",
       "        text-align: right;\n",
       "    }\n",
       "</style>\n",
       "<table border=\"1\" class=\"dataframe\">\n",
       "  <thead>\n",
       "    <tr style=\"text-align: right;\">\n",
       "      <th></th>\n",
       "      <th>Trials</th>\n",
       "      <th>Mean</th>\n",
       "      <th>Median</th>\n",
       "      <th>Standard Deviation</th>\n",
       "      <th>Variance</th>\n",
       "      <th>SEM</th>\n",
       "    </tr>\n",
       "    <tr>\n",
       "      <th>Drug Regimen</th>\n",
       "      <th></th>\n",
       "      <th></th>\n",
       "      <th></th>\n",
       "      <th></th>\n",
       "      <th></th>\n",
       "      <th></th>\n",
       "    </tr>\n",
       "  </thead>\n",
       "  <tbody>\n",
       "    <tr>\n",
       "      <th>Capomulin</th>\n",
       "      <td>230</td>\n",
       "      <td>40.675741</td>\n",
       "      <td>41.557809</td>\n",
       "      <td>4.994774</td>\n",
       "      <td>24.947764</td>\n",
       "      <td>0.329346</td>\n",
       "    </tr>\n",
       "    <tr>\n",
       "      <th>Ceftamin</th>\n",
       "      <td>178</td>\n",
       "      <td>52.591172</td>\n",
       "      <td>51.776157</td>\n",
       "      <td>6.268188</td>\n",
       "      <td>39.290177</td>\n",
       "      <td>0.469821</td>\n",
       "    </tr>\n",
       "    <tr>\n",
       "      <th>Infubinol</th>\n",
       "      <td>178</td>\n",
       "      <td>52.884795</td>\n",
       "      <td>51.820584</td>\n",
       "      <td>6.567243</td>\n",
       "      <td>43.128684</td>\n",
       "      <td>0.492236</td>\n",
       "    </tr>\n",
       "    <tr>\n",
       "      <th>Ketapril</th>\n",
       "      <td>188</td>\n",
       "      <td>55.235638</td>\n",
       "      <td>53.698743</td>\n",
       "      <td>8.279709</td>\n",
       "      <td>68.553577</td>\n",
       "      <td>0.603860</td>\n",
       "    </tr>\n",
       "    <tr>\n",
       "      <th>Naftisol</th>\n",
       "      <td>186</td>\n",
       "      <td>54.331565</td>\n",
       "      <td>52.509285</td>\n",
       "      <td>8.134708</td>\n",
       "      <td>66.173479</td>\n",
       "      <td>0.596466</td>\n",
       "    </tr>\n",
       "  </tbody>\n",
       "</table>\n",
       "</div>"
      ],
      "text/plain": [
       "              Trials       Mean     Median  Standard Deviation   Variance  \\\n",
       "Drug Regimen                                                                \n",
       "Capomulin        230  40.675741  41.557809            4.994774  24.947764   \n",
       "Ceftamin         178  52.591172  51.776157            6.268188  39.290177   \n",
       "Infubinol        178  52.884795  51.820584            6.567243  43.128684   \n",
       "Ketapril         188  55.235638  53.698743            8.279709  68.553577   \n",
       "Naftisol         186  54.331565  52.509285            8.134708  66.173479   \n",
       "\n",
       "                   SEM  \n",
       "Drug Regimen            \n",
       "Capomulin     0.329346  \n",
       "Ceftamin      0.469821  \n",
       "Infubinol     0.492236  \n",
       "Ketapril      0.603860  \n",
       "Naftisol      0.596466  "
      ]
     },
     "execution_count": 62,
     "metadata": {},
     "output_type": "execute_result"
    }
   ],
   "source": [
    "# Generate a summary statistics table of mean, median, variance, standard deviation, and SEM of the tumor volume for each regimen\n",
    "\n",
    "#Create inital summary table with Drug Regimes and counts (trials)\n",
    "summarystats = pd.DataFrame(combined_data.groupby(\"Drug Regimen\").count())\n",
    "\n",
    "#Use groupby to create summary stats by drug regime, add results into columns in summarystats\n",
    "\n",
    "summarystats[\"Mean\"] = pd.DataFrame(combined_data.groupby(\"Drug Regimen\")[\"Tumor Volume (mm3)\"].mean())\n",
    "summarystats[\"Median\"] = pd.DataFrame(combined_data.groupby(\"Drug Regimen\")[\"Tumor Volume (mm3)\"].median())\n",
    "summarystats[\"Variance\"] = pd.DataFrame(combined_data.groupby(\"Drug Regimen\")[\"Tumor Volume (mm3)\"].var())\n",
    "summarystats[\"Standard Deviation\"] = pd.DataFrame(combined_data.groupby(\"Drug Regimen\")[\"Tumor Volume (mm3)\"].std())\n",
    "\n",
    "summarystats[\"SEM\"] = pd.DataFrame(combined_data.groupby(\"Drug Regimen\")[\"Tumor Volume (mm3)\"].sem())\n",
    "\n",
    "#Clean up columns, just keeping a count column for some of the graphs below\n",
    "summarystats = summarystats[[\"Mouse ID\", \"Mean\", \"Median\", \"Standard Deviation\", \"Variance\", \"SEM\"]]\n",
    "\n",
    "#Rename count column\n",
    "summarystats = summarystats.rename(columns = {\"Mouse ID\" : \"Trials\"})\n",
    "\n",
    "summarystats.head()\n",
    "\n"
   ]
  },
  {
   "cell_type": "code",
   "execution_count": 63,
   "metadata": {},
   "outputs": [
    {
     "data": {
      "text/html": [
       "<div>\n",
       "<style scoped>\n",
       "    .dataframe tbody tr th:only-of-type {\n",
       "        vertical-align: middle;\n",
       "    }\n",
       "\n",
       "    .dataframe tbody tr th {\n",
       "        vertical-align: top;\n",
       "    }\n",
       "\n",
       "    .dataframe thead th {\n",
       "        text-align: right;\n",
       "    }\n",
       "</style>\n",
       "<table border=\"1\" class=\"dataframe\">\n",
       "  <thead>\n",
       "    <tr style=\"text-align: right;\">\n",
       "      <th></th>\n",
       "      <th>Tumor Mean</th>\n",
       "      <th>Tumor Median</th>\n",
       "      <th>Tumor Variance</th>\n",
       "      <th>Tumor Stdev</th>\n",
       "      <th>Tumor SEM</th>\n",
       "    </tr>\n",
       "    <tr>\n",
       "      <th>Drug Regimen</th>\n",
       "      <th></th>\n",
       "      <th></th>\n",
       "      <th></th>\n",
       "      <th></th>\n",
       "      <th></th>\n",
       "    </tr>\n",
       "  </thead>\n",
       "  <tbody>\n",
       "    <tr>\n",
       "      <th>Capomulin</th>\n",
       "      <td>40.675741</td>\n",
       "      <td>41.557809</td>\n",
       "      <td>24.947764</td>\n",
       "      <td>4.994774</td>\n",
       "      <td>0.329346</td>\n",
       "    </tr>\n",
       "    <tr>\n",
       "      <th>Ceftamin</th>\n",
       "      <td>52.591172</td>\n",
       "      <td>51.776157</td>\n",
       "      <td>39.290177</td>\n",
       "      <td>6.268188</td>\n",
       "      <td>0.469821</td>\n",
       "    </tr>\n",
       "    <tr>\n",
       "      <th>Infubinol</th>\n",
       "      <td>52.884795</td>\n",
       "      <td>51.820584</td>\n",
       "      <td>43.128684</td>\n",
       "      <td>6.567243</td>\n",
       "      <td>0.492236</td>\n",
       "    </tr>\n",
       "    <tr>\n",
       "      <th>Ketapril</th>\n",
       "      <td>55.235638</td>\n",
       "      <td>53.698743</td>\n",
       "      <td>68.553577</td>\n",
       "      <td>8.279709</td>\n",
       "      <td>0.603860</td>\n",
       "    </tr>\n",
       "    <tr>\n",
       "      <th>Naftisol</th>\n",
       "      <td>54.331565</td>\n",
       "      <td>52.509285</td>\n",
       "      <td>66.173479</td>\n",
       "      <td>8.134708</td>\n",
       "      <td>0.596466</td>\n",
       "    </tr>\n",
       "    <tr>\n",
       "      <th>Placebo</th>\n",
       "      <td>54.033581</td>\n",
       "      <td>52.288934</td>\n",
       "      <td>61.168083</td>\n",
       "      <td>7.821003</td>\n",
       "      <td>0.581331</td>\n",
       "    </tr>\n",
       "    <tr>\n",
       "      <th>Propriva</th>\n",
       "      <td>52.322552</td>\n",
       "      <td>50.854632</td>\n",
       "      <td>42.351070</td>\n",
       "      <td>6.507770</td>\n",
       "      <td>0.512884</td>\n",
       "    </tr>\n",
       "    <tr>\n",
       "      <th>Ramicane</th>\n",
       "      <td>40.216745</td>\n",
       "      <td>40.673236</td>\n",
       "      <td>23.486704</td>\n",
       "      <td>4.846308</td>\n",
       "      <td>0.320955</td>\n",
       "    </tr>\n",
       "    <tr>\n",
       "      <th>Stelasyn</th>\n",
       "      <td>54.233149</td>\n",
       "      <td>52.431737</td>\n",
       "      <td>59.450562</td>\n",
       "      <td>7.710419</td>\n",
       "      <td>0.573111</td>\n",
       "    </tr>\n",
       "    <tr>\n",
       "      <th>Zoniferol</th>\n",
       "      <td>53.236507</td>\n",
       "      <td>51.818479</td>\n",
       "      <td>48.533355</td>\n",
       "      <td>6.966589</td>\n",
       "      <td>0.516398</td>\n",
       "    </tr>\n",
       "  </tbody>\n",
       "</table>\n",
       "</div>"
      ],
      "text/plain": [
       "              Tumor Mean  Tumor Median  Tumor Variance  Tumor Stdev  Tumor SEM\n",
       "Drug Regimen                                                                  \n",
       "Capomulin      40.675741     41.557809       24.947764     4.994774   0.329346\n",
       "Ceftamin       52.591172     51.776157       39.290177     6.268188   0.469821\n",
       "Infubinol      52.884795     51.820584       43.128684     6.567243   0.492236\n",
       "Ketapril       55.235638     53.698743       68.553577     8.279709   0.603860\n",
       "Naftisol       54.331565     52.509285       66.173479     8.134708   0.596466\n",
       "Placebo        54.033581     52.288934       61.168083     7.821003   0.581331\n",
       "Propriva       52.322552     50.854632       42.351070     6.507770   0.512884\n",
       "Ramicane       40.216745     40.673236       23.486704     4.846308   0.320955\n",
       "Stelasyn       54.233149     52.431737       59.450562     7.710419   0.573111\n",
       "Zoniferol      53.236507     51.818479       48.533355     6.966589   0.516398"
      ]
     },
     "execution_count": 63,
     "metadata": {},
     "output_type": "execute_result"
    }
   ],
   "source": [
    "# Groups\n",
    "regimen_group = df.groupby([\"Drug Regimen\"])\n",
    "mouse_group = df.groupby([\"Mouse ID\"])\n",
    "gender_group = df.groupby([\"Sex\"])\n",
    "regi_gender_group = df.groupby([\"Drug Regimen\",\"Sex\"])\n",
    "regi_mouse_group = df.groupby([\"Drug Regimen\",\"Mouse ID\"])\n",
    "\n",
    "# Generate a summary statistics table of mean, median, variance, standard deviation, \n",
    "# and SEM of the tumor volume for each regimen\n",
    "tumor_summary = pd.DataFrame({\n",
    "    \"Tumor Mean\":regimen_group['Tumor Volume (mm3)'].mean(),\n",
    "    \"Tumor Median\":regimen_group['Tumor Volume (mm3)'].median(),\n",
    "    \"Tumor Variance\":regimen_group['Tumor Volume (mm3)'].var(),\n",
    "    \"Tumor Stdev\":regimen_group['Tumor Volume (mm3)'].std(),\n",
    "    \"Tumor SEM\":regimen_group['Tumor Volume (mm3)'].sem(),\n",
    "})\n",
    "tumor_summary"
   ]
  },
  {
   "cell_type": "markdown",
   "metadata": {},
   "source": [
    "## Bar plots"
   ]
  },
  {
   "cell_type": "code",
   "execution_count": 64,
   "metadata": {},
   "outputs": [
    {
     "data": {
      "image/png": "[encoded data removed]",
      "text/plain": [
       "<Figure size 432x288 with 1 Axes>"
      ]
     },
     "metadata": {
      "needs_background": "light"
     },
     "output_type": "display_data"
    },
    {
     "data": {
      "text/plain": [
       "<Figure size 432x288 with 0 Axes>"
      ]
     },
     "metadata": {},
     "output_type": "display_data"
    }
   ],
   "source": [
    "# Generate a bar plot showing number of mice for each treatment regimen using pandas\n",
    "\n",
    "# Filter the DataFrame down only to those columns to chart\n",
    "datapoints = summarystats[[\"Trials\"]]\n",
    "\n",
    "# Use DataFrame.plot() in order to create a bar chart of the data\n",
    "datapoints.plot(kind=\"bar\", figsize=(6,4), color = \"b\", legend=False)\n",
    "\n",
    "# Set a title for the chart\n",
    "plt.title(\"Trials per Drug Regime\")\n",
    "\n",
    "plt.show()\n",
    "plt.tight_layout()"
   ]
  },
  {
   "cell_type": "code",
   "execution_count": 65,
   "metadata": {},
   "outputs": [
    {
     "data": {
      "image/png": "[encoded data removed]",
      "text/plain": [
       "<Figure size 432x288 with 1 Axes>"
      ]
     },
     "metadata": {
      "needs_background": "light"
     },
     "output_type": "display_data"
    }
   ],
   "source": [
    "# Generate a bar plot showing number of mice for each treatment regimen using pyplot\n",
    "\n",
    "# Set x axis and tick locations\n",
    "x_axis = np.arange(len(datapoints))\n",
    "tick_locations = [value for value in x_axis]\n",
    "\n",
    "# Create a list indicating where to write x labels and set figure size to adjust for space\n",
    "plt.figure(figsize=(6,4))\n",
    "plt.bar(x_axis, datapoints[\"Trials\"], color = \"b\", width = .5)\n",
    "plt.xticks(tick_locations, datapoints.index.values, rotation=\"vertical\")\n",
    "\n",
    "# Set x and y limits\n",
    "plt.xlim(-0.75, len(x_axis)-.25)\n",
    "plt.ylim(0, max(datapoints[\"Trials\"])+10)\n",
    "\n",
    "# Set a Title and labels\n",
    "plt.title(\"Trials per Drug Regime\")\n",
    "plt.xlabel(\"Drug Regime\")\n",
    "\n",
    "# Save our graph and show the grap\n",
    "plt.show()"
   ]
  },
  {
   "cell_type": "markdown",
   "metadata": {},
   "source": [
    "## Pie plots"
   ]
  },
  {
   "cell_type": "code",
   "execution_count": 54,
   "metadata": {},
   "outputs": [
    {
     "data": {
      "image/png": "[encoded data removed]",
      "text/plain": [
       "<Figure size 432x288 with 1 Axes>"
      ]
     },
     "metadata": {},
     "output_type": "display_data"
    }
   ],
   "source": [
    "# Generate a pie plot showing the distribution of female versus male mice using pandas\n",
    "\n",
    "gender_output = gender_group['Mouse ID'].unique()\n",
    "gender_map = gender_output.map(len)\n",
    "gender_pie = gender_map.plot.pie(y='Sex')\n",
    "plt.ylabel('Gender Distribution')\n",
    "\n",
    "# Set a title for the chart\n",
    "plt.title(\"Trials per Drug Regime\")\n",
    "\n",
    "# Save an image of our chart and print the final product to the screen\n",
    "plt.show()"
   ]
  },
  {
   "cell_type": "code",
   "execution_count": 55,
   "metadata": {},
   "outputs": [
    {
     "data": {
      "image/png": "[encoded data removed]",
      "text/plain": [
       "<Figure size 432x288 with 1 Axes>"
      ]
     },
     "metadata": {},
     "output_type": "display_data"
    }
   ],
   "source": [
    "# Generate a pie plot showing the distribution of female versus male mice using pyplot\n",
    "plt.pie(gender_map, labels=[\"Female\",\"Male\"])\n",
    "plt.ylabel('Gender Distribution')\n",
    "\n",
    "# Set a title for the chart\n",
    "plt.title(\"Trials per Drug Regime\")\n",
    "\n",
    "# Save an image of our chart and print the final product to the screen\n",
    "plt.show()"
   ]
  },
  {
   "cell_type": "markdown",
   "metadata": {},
   "source": [
    "## Quartiles, outliers and boxplots"
   ]
  },
  {
   "cell_type": "code",
   "execution_count": 66,
   "metadata": {},
   "outputs": [
    {
     "data": {
      "text/html": [
       "<div>\n",
       "<style scoped>\n",
       "    .dataframe tbody tr th:only-of-type {\n",
       "        vertical-align: middle;\n",
       "    }\n",
       "\n",
       "    .dataframe tbody tr th {\n",
       "        vertical-align: top;\n",
       "    }\n",
       "\n",
       "    .dataframe thead th {\n",
       "        text-align: right;\n",
       "    }\n",
       "</style>\n",
       "<table border=\"1\" class=\"dataframe\">\n",
       "  <thead>\n",
       "    <tr style=\"text-align: right;\">\n",
       "      <th></th>\n",
       "      <th>Mouse ID</th>\n",
       "      <th>Drug Regimen</th>\n",
       "      <th>Sex</th>\n",
       "      <th>Age_months</th>\n",
       "      <th>Weight (g)</th>\n",
       "      <th>Timepoint</th>\n",
       "      <th>Tumor Volume (mm3)</th>\n",
       "      <th>Metastatic Sites</th>\n",
       "    </tr>\n",
       "  </thead>\n",
       "  <tbody>\n",
       "  </tbody>\n",
       "</table>\n",
       "</div>"
      ],
      "text/plain": [
       "Empty DataFrame\n",
       "Columns: [Mouse ID, Drug Regimen, Sex, Age_months, Weight (g), Timepoint, Tumor Volume (mm3), Metastatic Sites]\n",
       "Index: []"
      ]
     },
     "execution_count": 66,
     "metadata": {},
     "output_type": "execute_result"
    }
   ],
   "source": [
    "# Calculate the final tumor volume of each mouse across four of the most promising treatment regimens. Calculate the IQR and quantitatively determine if there are any potential outliers.\n",
    " \n",
    "# Grab just data for the 4 smallest mean tumor volume regimens\n",
    "filtered_df = combined_data.loc[(combined_data[\"Drug Regimen\"] == \"Capomulin\") | (combined_data[\"Drug Regimen\"] == \"Ramicane\") | (combined_data[\"Drug Regimen\"] == \"Ceftamin\") | (combined_data[\"Drug Regimen\"] == \"Propriva\"), :]\n",
    "\n",
    "# Sort by Timpepoints based on the latest values\n",
    "filtered_df = filtered_df.sort_values(\"Timepoint\", ascending = False)\n",
    "\n",
    "# Dropping duplicates, keeping first value, should be the latest timepoint per mouse\n",
    "filtered_df = filtered_df.drop_duplicates(subset=\"Mouse ID\", keep='first')\n",
    "    \n",
    "# Determine quartiles\n",
    "quartiles = filtered_df['Tumor Volume (mm3)'].quantile([.25,.5,.75])\n",
    "lowerq = quartiles[0.25]\n",
    "upperq = quartiles[0.75]\n",
    "iqr = upperq-lowerq\n",
    "\n",
    "# Determine upper and lower bounds\n",
    "lower_bound = lowerq - (1.5*iqr)\n",
    "upper_bound = upperq + (1.5*iqr)\n",
    "\n",
    "# Print a filtered dataframe of any outliers\n",
    "outliers_df = filtered_df.loc[(filtered_df['Tumor Volume (mm3)'] > upper_bound) | (filtered_df['Tumor Volume (mm3)'] < lower_bound), :]\n",
    "outliers_df\n",
    "\n"
   ]
  },
  {
   "cell_type": "code",
   "execution_count": 67,
   "metadata": {},
   "outputs": [
    {
     "ename": "NameError",
     "evalue": "name 'combine_ms' is not defined",
     "output_type": "error",
     "traceback": [
      "\u001b[1;31m---------------------------------------------------------------------------\u001b[0m",
      "\u001b[1;31mNameError\u001b[0m                                 Traceback (most recent call last)",
      "\u001b[1;32m<ipython-input-67-712600c39c62>\u001b[0m in \u001b[0;36m<module>\u001b[1;34m\u001b[0m\n\u001b[0;32m      1\u001b[0m \u001b[1;31m# Calculate the final tumor volume of each mouse across four of the most promising treatment regimens. Calculate the IQR and quantitatively determine if there are any potential outliers.\u001b[0m\u001b[1;33m\u001b[0m\u001b[1;33m\u001b[0m\u001b[1;33m\u001b[0m\u001b[0m\n\u001b[1;32m----> 2\u001b[1;33m \u001b[0mc_df\u001b[0m \u001b[1;33m=\u001b[0m \u001b[0mcombine_ms\u001b[0m\u001b[1;33m.\u001b[0m\u001b[0mloc\u001b[0m\u001b[1;33m[\u001b[0m\u001b[0mcombine_ms\u001b[0m\u001b[1;33m[\u001b[0m\u001b[1;34m\"Drug Regimen\"\u001b[0m\u001b[1;33m]\u001b[0m \u001b[1;33m==\u001b[0m \u001b[1;34m\"Capomulin\"\u001b[0m\u001b[1;33m,\u001b[0m\u001b[1;33m:\u001b[0m\u001b[1;33m]\u001b[0m\u001b[1;33m\u001b[0m\u001b[1;33m\u001b[0m\u001b[0m\n\u001b[0m\u001b[0;32m      3\u001b[0m \u001b[0mr_df\u001b[0m \u001b[1;33m=\u001b[0m \u001b[0mcombine_ms\u001b[0m\u001b[1;33m.\u001b[0m\u001b[0mloc\u001b[0m\u001b[1;33m[\u001b[0m\u001b[0mcombine_ms\u001b[0m\u001b[1;33m[\u001b[0m\u001b[1;34m\"Drug Regimen\"\u001b[0m\u001b[1;33m]\u001b[0m \u001b[1;33m==\u001b[0m \u001b[1;34m\"Ramicane\"\u001b[0m\u001b[1;33m,\u001b[0m \u001b[1;33m:\u001b[0m\u001b[1;33m]\u001b[0m\u001b[1;33m\u001b[0m\u001b[1;33m\u001b[0m\u001b[0m\n\u001b[0;32m      4\u001b[0m \u001b[0mi_df\u001b[0m \u001b[1;33m=\u001b[0m \u001b[0mcombine_ms\u001b[0m\u001b[1;33m.\u001b[0m\u001b[0mloc\u001b[0m\u001b[1;33m[\u001b[0m\u001b[0mcombine_ms\u001b[0m\u001b[1;33m[\u001b[0m\u001b[1;34m\"Drug Regimen\"\u001b[0m\u001b[1;33m]\u001b[0m \u001b[1;33m==\u001b[0m \u001b[1;34m\"Infubinol\"\u001b[0m\u001b[1;33m,\u001b[0m \u001b[1;33m:\u001b[0m\u001b[1;33m]\u001b[0m\u001b[1;33m\u001b[0m\u001b[1;33m\u001b[0m\u001b[0m\n\u001b[0;32m      5\u001b[0m \u001b[0mce_df\u001b[0m \u001b[1;33m=\u001b[0m \u001b[0mcombine_ms\u001b[0m\u001b[1;33m.\u001b[0m\u001b[0mloc\u001b[0m\u001b[1;33m[\u001b[0m\u001b[0mcombine_ms\u001b[0m\u001b[1;33m[\u001b[0m\u001b[1;34m\"Drug Regimen\"\u001b[0m\u001b[1;33m]\u001b[0m \u001b[1;33m==\u001b[0m \u001b[1;34m\"Ceftamin\"\u001b[0m\u001b[1;33m,\u001b[0m \u001b[1;33m:\u001b[0m\u001b[1;33m]\u001b[0m\u001b[1;33m\u001b[0m\u001b[1;33m\u001b[0m\u001b[0m\n",
      "\u001b[1;31mNameError\u001b[0m: name 'combine_ms' is not defined"
     ]
    }
   ],
   "source": [
    "# Calculate the final tumor volume of each mouse across four of the most promising treatment regimens. Calculate the IQR and quantitatively determine if there are any potential outliers. \n",
    "c_df = combine_ms.loc[combine_ms[\"Drug Regimen\"] == \"Capomulin\",:]\n",
    "r_df = combine_ms.loc[combine_ms[\"Drug Regimen\"] == \"Ramicane\", :]\n",
    "i_df = combine_ms.loc[combine_ms[\"Drug Regimen\"] == \"Infubinol\", :]\n",
    "ce_df = combine_ms.loc[combine_ms[\"Drug Regimen\"] == \"Ceftamin\", :]"
   ]
  },
  {
   "cell_type": "code",
   "execution_count": 69,
   "metadata": {},
   "outputs": [
    {
     "ename": "NameError",
     "evalue": "name 'c_max_merge' is not defined",
     "output_type": "error",
     "traceback": [
      "\u001b[1;31m---------------------------------------------------------------------------\u001b[0m",
      "\u001b[1;31mNameError\u001b[0m                                 Traceback (most recent call last)",
      "\u001b[1;32m<ipython-input-69-52951556db7a>\u001b[0m in \u001b[0;36m<module>\u001b[1;34m\u001b[0m\n\u001b[0;32m      1\u001b[0m \u001b[1;31m#C outliers/\u001b[0m\u001b[1;33m\u001b[0m\u001b[1;33m\u001b[0m\u001b[1;33m\u001b[0m\u001b[0m\n\u001b[1;32m----> 2\u001b[1;33m \u001b[0mc_tumors\u001b[0m \u001b[1;33m=\u001b[0m \u001b[0mc_max_merge\u001b[0m\u001b[1;33m[\u001b[0m\u001b[1;34m\"Tumor Volume (mm3)\"\u001b[0m\u001b[1;33m]\u001b[0m\u001b[1;33m\u001b[0m\u001b[1;33m\u001b[0m\u001b[0m\n\u001b[0m\u001b[0;32m      3\u001b[0m \u001b[1;33m\u001b[0m\u001b[0m\n\u001b[0;32m      4\u001b[0m \u001b[0mc_quartiles\u001b[0m \u001b[1;33m=\u001b[0m \u001b[0mc_tumors\u001b[0m\u001b[1;33m.\u001b[0m\u001b[0mquantile\u001b[0m\u001b[1;33m(\u001b[0m\u001b[1;33m[\u001b[0m\u001b[1;36m.25\u001b[0m\u001b[1;33m,\u001b[0m\u001b[1;36m.5\u001b[0m\u001b[1;33m,\u001b[0m\u001b[1;36m.75\u001b[0m\u001b[1;33m]\u001b[0m\u001b[1;33m)\u001b[0m\u001b[1;33m\u001b[0m\u001b[1;33m\u001b[0m\u001b[0m\n\u001b[0;32m      5\u001b[0m \u001b[0mc_lowerq\u001b[0m \u001b[1;33m=\u001b[0m \u001b[0mc_quartiles\u001b[0m\u001b[1;33m[\u001b[0m\u001b[1;36m0.25\u001b[0m\u001b[1;33m]\u001b[0m\u001b[1;33m\u001b[0m\u001b[1;33m\u001b[0m\u001b[0m\n",
      "\u001b[1;31mNameError\u001b[0m: name 'c_max_merge' is not defined"
     ]
    }
   ],
   "source": [
    "#C outliers/ \n",
    "c_tumors = c_max_merge[\"Tumor Volume (mm3)\"]\n",
    "\n",
    "c_quartiles = c_tumors.quantile([.25,.5,.75])\n",
    "c_lowerq = c_quartiles[0.25]\n",
    "c_upperq = c_quartiles[0.75]\n",
    "c_iqr = c_upperq-c_lowerq\n",
    "\n",
    "c_lower_bound = c_lowerq - (1.5*c_iqr)\n",
    "c_upper_bound = c_upperq + (1.5*c_iqr)\n",
    "print(f\"Capomulin potential outliers could be values below {c_lower_bound} and above {c_upper_bound} could be outliers.\")\n",
    "\n",
    "#R Outliers/ \n",
    "r_tumors = r_max_merge[\"Tumor Volume (mm3)\"]\n",
    "\n",
    "r_quartiles = r_tumors.quantile([.25,.5,.75])\n",
    "r_lowerq = r_quartiles[0.25]\n",
    "r_upperq = r_quartiles[0.75]\n",
    "r_iqr = r_upperq-r_lowerq\n",
    "\n",
    "r_lower_bound = r_lowerq - (1.5*r_iqr)\n",
    "r_upper_bound = r_upperq + (1.5*r_iqr)\n",
    "print(f\"Ramicane potential outliers could be values below {r_lower_bound} and above {r_upper_bound} could be outliers.\")\n",
    "#I Outliers/\n",
    "i_tumors = i_max_merge[\"Tumor Volume (mm3)\"]\n",
    "\n",
    "i_quartiles = i_tumors.quantile([.25,.5,.75])\n",
    "i_lowerq = i_quartiles[0.25]\n",
    "i_upperq = i_quartiles[0.75]\n",
    "i_iqr = i_upperq-i_lowerq\n",
    "\n",
    "i_lower_bound = i_lowerq - (1.5*i_iqr)\n",
    "i_upper_bound = i_upperq + (1.5*i_iqr)\n",
    "print(f\"Infubinol potential outliers could be values below {i_lower_bound} and above {i_upper_bound} could be outliers.\")\n",
    "\n",
    "#CE Outliers/\n",
    "ce_tumors = ce_max_merge[\"Tumor Volume (mm3)\"]\n",
    "\n",
    "ce_quartiles = ce_tumors.quantile([.25,.5,.75])\n",
    "ce_lowerq = ce_quartiles[0.25]\n",
    "ce_upperq = ce_quartiles[0.75]\n",
    "ce_iqr = ce_upperq-ce_lowerq\n",
    "\n",
    "ce_lower_bound = ce_lowerq - (1.5*ce_iqr)\n",
    "ce_upper_bound = ce_upperq + (1.5*ce_iqr)\n",
    "print(f\"Ceftamin potential outliers could be values below {ce_lower_bound} and above {ce_upper_bound} could be outliers.\")\n"
   ]
  },
  {
   "cell_type": "code",
   "execution_count": 70,
   "metadata": {},
   "outputs": [
    {
     "ename": "SyntaxError",
     "evalue": "invalid syntax (<ipython-input-70-54d0baee9570>, line 18)",
     "output_type": "error",
     "traceback": [
      "\u001b[1;36m  File \u001b[1;32m\"<ipython-input-70-54d0baee9570>\"\u001b[1;36m, line \u001b[1;32m18\u001b[0m\n\u001b[1;33m    Calculate the IQR and quantitatively determine if there are any potential outliers.\u001b[0m\n\u001b[1;37m                ^\u001b[0m\n\u001b[1;31mSyntaxError\u001b[0m\u001b[1;31m:\u001b[0m invalid syntax\n"
     ]
    }
   ],
   "source": [
    "# Calculate the final tumor volume of each mouse across four of the most promising treatment regimens. \n",
    "# Capomulin, Ramicane, Infubinol, and Ceftamin\n",
    "\n",
    "\n",
    "# Put treatments into a list for for loop (and later for plot labels)\n",
    "# Create empty list to fill with tumor vol data (for plotting)\n",
    "# Calculate the IQR and quantitatively determine if there are any potential outliers. \n",
    "\n",
    "    # Locate the rows which contain mice on each drug and get the tumor volumes\n",
    "        \n",
    "    # add subset \n",
    "    \n",
    "    # Determine outliers using upper and lower bounds\n",
    "\n",
    "# Start by getting the last (greatest) timepoint for each mouse\n",
    "# Merge this group df with the original dataframe to get the tumor volume at the last timepoint\n",
    "\n",
    "Calculate the IQR and quantitatively determine if there are any potential outliers.\n",
    " \n",
    "# Grab just data for the 4 smallest mean tumor volume regimens\n",
    "filtered_df = combined_data.loc[(combined_data[\"Drug Regimen\"] == \"Capomulin\") | (combined_data[\"Drug Regimen\"] == \"Ramicane\") | (combined_data[\"Drug Regimen\"] == \"Ceftamin\") | (combined_data[\"Drug Regimen\"] == \"Propriva\"), :]\n",
    "\n",
    "# Sort by Timpepoints based on the latest values\n",
    "filtered_df = filtered_df.sort_values(\"Timepoint\", ascending = False)\n",
    "\n",
    "# Dropping duplicates, keeping first value, should be the latest timepoint per mouse\n",
    "filtered_df = filtered_df.drop_duplicates(subset=\"Mouse ID\", keep='first')\n",
    "    \n",
    "# Determine quartiles\n",
    "quartiles = filtered_df['Tumor Volume (mm3)'].quantile([.25,.5,.75])\n",
    "lowerq = quartiles[0.25]\n",
    "upperq = quartiles[0.75]\n",
    "iqr = upperq-lowerq\n",
    "\n",
    "# Determine upper and lower bounds\n",
    "lower_bound = lowerq - (1.5*iqr)\n",
    "upper_bound = upperq + (1.5*iqr)\n",
    "\n",
    "# Print a filtered dataframe of any outliers\n",
    "outliers_df = filtered_df.loc[(filtered_df['Tumor Volume (mm3)'] > upper_bound) | (filtered_df['Tumor Volume (mm3)'] < lower_bound), :]\n",
    "outliers_df\n",
    "\n",
    "# Not finding any outliers. "
   ]
  },
  {
   "cell_type": "code",
   "execution_count": 71,
   "metadata": {},
   "outputs": [
    {
     "ename": "NameError",
     "evalue": "name 'regi_output_df' is not defined",
     "output_type": "error",
     "traceback": [
      "\u001b[1;31m---------------------------------------------------------------------------\u001b[0m",
      "\u001b[1;31mNameError\u001b[0m                                 Traceback (most recent call last)",
      "\u001b[1;32m<ipython-input-71-534d97a5ef11>\u001b[0m in \u001b[0;36m<module>\u001b[1;34m\u001b[0m\n\u001b[0;32m      4\u001b[0m \u001b[1;31m# REMINDER: Best Item List Items: ['Capomulin','Ceftamin','Infubinol','Ramicane']\u001b[0m\u001b[1;33m\u001b[0m\u001b[1;33m\u001b[0m\u001b[1;33m\u001b[0m\u001b[0m\n\u001b[0;32m      5\u001b[0m \u001b[1;33m\u001b[0m\u001b[0m\n\u001b[1;32m----> 6\u001b[1;33m \u001b[0mtumor_vols\u001b[0m \u001b[1;33m=\u001b[0m \u001b[1;33m[\u001b[0m\u001b[0mregi_output_df\u001b[0m\u001b[1;33m.\u001b[0m\u001b[0mloc\u001b[0m\u001b[1;33m[\u001b[0m\u001b[0mregi_output_df\u001b[0m\u001b[1;33m[\u001b[0m\u001b[1;34m'Drug Regimen'\u001b[0m\u001b[1;33m]\u001b[0m \u001b[1;33m==\u001b[0m \u001b[0mbest_regimens\u001b[0m\u001b[1;33m[\u001b[0m\u001b[0mi\u001b[0m\u001b[1;33m]\u001b[0m\u001b[1;33m,\u001b[0m \u001b[1;34m'Tumor Volume (mm3)'\u001b[0m\u001b[1;33m]\u001b[0m \u001b[1;32mfor\u001b[0m \u001b[0mi\u001b[0m \u001b[1;32min\u001b[0m \u001b[0mrange\u001b[0m\u001b[1;33m(\u001b[0m\u001b[1;36m4\u001b[0m\u001b[1;33m)\u001b[0m\u001b[1;33m]\u001b[0m\u001b[1;33m\u001b[0m\u001b[1;33m\u001b[0m\u001b[0m\n\u001b[0m\u001b[0;32m      7\u001b[0m \u001b[1;33m\u001b[0m\u001b[0m\n\u001b[0;32m      8\u001b[0m \u001b[1;32mfor\u001b[0m \u001b[0mi\u001b[0m \u001b[1;32min\u001b[0m \u001b[0mrange\u001b[0m\u001b[1;33m(\u001b[0m\u001b[1;36m4\u001b[0m\u001b[1;33m)\u001b[0m\u001b[1;33m:\u001b[0m\u001b[1;33m\u001b[0m\u001b[1;33m\u001b[0m\u001b[0m\n",
      "\u001b[1;32m<ipython-input-71-534d97a5ef11>\u001b[0m in \u001b[0;36m<listcomp>\u001b[1;34m(.0)\u001b[0m\n\u001b[0;32m      4\u001b[0m \u001b[1;31m# REMINDER: Best Item List Items: ['Capomulin','Ceftamin','Infubinol','Ramicane']\u001b[0m\u001b[1;33m\u001b[0m\u001b[1;33m\u001b[0m\u001b[1;33m\u001b[0m\u001b[0m\n\u001b[0;32m      5\u001b[0m \u001b[1;33m\u001b[0m\u001b[0m\n\u001b[1;32m----> 6\u001b[1;33m \u001b[0mtumor_vols\u001b[0m \u001b[1;33m=\u001b[0m \u001b[1;33m[\u001b[0m\u001b[0mregi_output_df\u001b[0m\u001b[1;33m.\u001b[0m\u001b[0mloc\u001b[0m\u001b[1;33m[\u001b[0m\u001b[0mregi_output_df\u001b[0m\u001b[1;33m[\u001b[0m\u001b[1;34m'Drug Regimen'\u001b[0m\u001b[1;33m]\u001b[0m \u001b[1;33m==\u001b[0m \u001b[0mbest_regimens\u001b[0m\u001b[1;33m[\u001b[0m\u001b[0mi\u001b[0m\u001b[1;33m]\u001b[0m\u001b[1;33m,\u001b[0m \u001b[1;34m'Tumor Volume (mm3)'\u001b[0m\u001b[1;33m]\u001b[0m \u001b[1;32mfor\u001b[0m \u001b[0mi\u001b[0m \u001b[1;32min\u001b[0m \u001b[0mrange\u001b[0m\u001b[1;33m(\u001b[0m\u001b[1;36m4\u001b[0m\u001b[1;33m)\u001b[0m\u001b[1;33m]\u001b[0m\u001b[1;33m\u001b[0m\u001b[1;33m\u001b[0m\u001b[0m\n\u001b[0m\u001b[0;32m      7\u001b[0m \u001b[1;33m\u001b[0m\u001b[0m\n\u001b[0;32m      8\u001b[0m \u001b[1;32mfor\u001b[0m \u001b[0mi\u001b[0m \u001b[1;32min\u001b[0m \u001b[0mrange\u001b[0m\u001b[1;33m(\u001b[0m\u001b[1;36m4\u001b[0m\u001b[1;33m)\u001b[0m\u001b[1;33m:\u001b[0m\u001b[1;33m\u001b[0m\u001b[1;33m\u001b[0m\u001b[0m\n",
      "\u001b[1;31mNameError\u001b[0m: name 'regi_output_df' is not defined"
     ]
    }
   ],
   "source": [
    "# Extract the top 4 regimenes from the data frame in order to perform IQR test on each\n",
    "# Calculate the IQR and quantitatively determine if there are any potential outliers.\n",
    "\n",
    "# REMINDER: Best Item List Items: ['Capomulin','Ceftamin','Infubinol','Ramicane']\n",
    "\n",
    "tumor_vols = [regi_output_df.loc[regi_output_df['Drug Regimen'] == best_regimens[i], 'Tumor Volume (mm3)'] for i in range(4)]\n",
    "\n",
    "for i in range(4):\n",
    "    quartiles = tumor_vols[i].quantile([.25,.5,.75])\n",
    "    lowerq = quartiles[0.25]\n",
    "    upperq = quartiles[0.75]\n",
    "    iqr = round(upperq-lowerq,2)\n",
    "    lower_bound = lowerq - (1.5*iqr)\n",
    "    upper_bound = upperq + (1.5*iqr)\n",
    "    print(f\"The IQR for regimen at 'Best Regimen' List Item {i+1} is {iqr}'.\")\n",
    "    if (lower_bound < tumor_vols[i].min()) & (upper_bound > tumor_vols[i].max()):\n",
    "        print(f\"\\tThere are no outliers at 'Best Regimen' List Item {i+1}'.\")\n",
    "    else:\n",
    "        print(f\"\\tThere is at least 1 outlier at 'Best Regimen' List Item {i+1}'.\")"
   ]
  },
  {
   "cell_type": "code",
   "execution_count": 4,
   "metadata": {},
   "outputs": [
    {
     "ename": "NameError",
     "evalue": "name 'filtered_df' is not defined",
     "output_type": "error",
     "traceback": [
      "\u001b[1;31m---------------------------------------------------------------------------\u001b[0m",
      "\u001b[1;31mNameError\u001b[0m                                 Traceback (most recent call last)",
      "\u001b[1;32m<ipython-input-4-8b61d05c3624>\u001b[0m in \u001b[0;36m<module>\u001b[1;34m\u001b[0m\n\u001b[1;32m----> 1\u001b[1;33m \u001b[0mTumor_Volume\u001b[0m \u001b[1;33m=\u001b[0m \u001b[0mfiltered_df\u001b[0m\u001b[1;33m[\u001b[0m\u001b[1;34m'Tumor Volume (mm3)'\u001b[0m\u001b[1;33m]\u001b[0m\u001b[1;33m\u001b[0m\u001b[1;33m\u001b[0m\u001b[0m\n\u001b[0m\u001b[0;32m      2\u001b[0m \u001b[0mfig1\u001b[0m\u001b[1;33m,\u001b[0m \u001b[0max1\u001b[0m \u001b[1;33m=\u001b[0m \u001b[0mplt\u001b[0m\u001b[1;33m.\u001b[0m\u001b[0msubplots\u001b[0m\u001b[1;33m(\u001b[0m\u001b[1;33m)\u001b[0m\u001b[1;33m\u001b[0m\u001b[1;33m\u001b[0m\u001b[0m\n\u001b[0;32m      3\u001b[0m \u001b[0max1\u001b[0m\u001b[1;33m.\u001b[0m\u001b[0mset_title\u001b[0m\u001b[1;33m(\u001b[0m\u001b[1;34m'Tumor Volume of Mice'\u001b[0m\u001b[1;33m)\u001b[0m\u001b[1;33m\u001b[0m\u001b[1;33m\u001b[0m\u001b[0m\n\u001b[0;32m      4\u001b[0m \u001b[0max1\u001b[0m\u001b[1;33m.\u001b[0m\u001b[0mset_ylabel\u001b[0m\u001b[1;33m(\u001b[0m\u001b[1;34m'Tumor Volume'\u001b[0m\u001b[1;33m)\u001b[0m\u001b[1;33m\u001b[0m\u001b[1;33m\u001b[0m\u001b[0m\n\u001b[0;32m      5\u001b[0m \u001b[0max1\u001b[0m\u001b[1;33m.\u001b[0m\u001b[0mboxplot\u001b[0m\u001b[1;33m(\u001b[0m\u001b[0mTumor_Volume\u001b[0m\u001b[1;33m)\u001b[0m\u001b[1;33m\u001b[0m\u001b[1;33m\u001b[0m\u001b[0m\n",
      "\u001b[1;31mNameError\u001b[0m: name 'filtered_df' is not defined"
     ]
    }
   ],
   "source": [
    "Tumor_Volume = filtered_df['Tumor Volume (mm3)']\n",
    "fig1, ax1 = plt.subplots()\n",
    "ax1.set_title('Tumor Volume of Mice')\n",
    "ax1.set_ylabel('Tumor Volume')\n",
    "ax1.boxplot(Tumor_Volume)\n",
    "plt.show()"
   ]
  },
  {
   "cell_type": "code",
   "execution_count": 6,
   "metadata": {},
   "outputs": [
    {
     "ename": "NameError",
     "evalue": "name 'filtered_df' is not defined",
     "output_type": "error",
     "traceback": [
      "\u001b[1;31m---------------------------------------------------------------------------\u001b[0m",
      "\u001b[1;31mNameError\u001b[0m                                 Traceback (most recent call last)",
      "\u001b[1;32m<ipython-input-6-2c412acb8313>\u001b[0m in \u001b[0;36m<module>\u001b[1;34m\u001b[0m\n\u001b[0;32m      1\u001b[0m \u001b[1;31m# Using Matplotlib, generate a box and whisker plot of the final tumor volume for all four treatment regimens and highlight any potential outliers in the plot by changing their color and style.\u001b[0m\u001b[1;33m\u001b[0m\u001b[1;33m\u001b[0m\u001b[1;33m\u001b[0m\u001b[0m\n\u001b[0;32m      2\u001b[0m \u001b[1;33m\u001b[0m\u001b[0m\n\u001b[1;32m----> 3\u001b[1;33m \u001b[0mTumor_Volume\u001b[0m \u001b[1;33m=\u001b[0m \u001b[0mfiltered_df\u001b[0m\u001b[1;33m[\u001b[0m\u001b[1;34m'Tumor Volume (mm3)'\u001b[0m\u001b[1;33m]\u001b[0m\u001b[1;33m\u001b[0m\u001b[1;33m\u001b[0m\u001b[0m\n\u001b[0m\u001b[0;32m      4\u001b[0m \u001b[0mfig1\u001b[0m\u001b[1;33m,\u001b[0m \u001b[0max1\u001b[0m \u001b[1;33m=\u001b[0m \u001b[0mplt\u001b[0m\u001b[1;33m.\u001b[0m\u001b[0msubplots\u001b[0m\u001b[1;33m(\u001b[0m\u001b[1;33m)\u001b[0m\u001b[1;33m\u001b[0m\u001b[1;33m\u001b[0m\u001b[0m\n\u001b[0;32m      5\u001b[0m \u001b[0max1\u001b[0m\u001b[1;33m.\u001b[0m\u001b[0mset_title\u001b[0m\u001b[1;33m(\u001b[0m\u001b[1;34m'Tumor Volume of Mice'\u001b[0m\u001b[1;33m)\u001b[0m\u001b[1;33m\u001b[0m\u001b[1;33m\u001b[0m\u001b[0m\n",
      "\u001b[1;31mNameError\u001b[0m: name 'filtered_df' is not defined"
     ]
    }
   ],
   "source": [
    "# Using Matplotlib, generate a box and whisker plot of the final tumor volume for all four treatment regimens and highlight any potential outliers in the plot by changing their color and style.\n",
    "\n",
    "Tumor_Volume = filtered_df['Tumor Volume (mm3)']\n",
    "fig1, ax1 = plt.subplots()\n",
    "ax1.set_title('Tumor Volume of Mice')\n",
    "ax1.set_ylabel('Tumor Volume')\n",
    "ax1.boxplot(Tumor_Volume)\n",
    "plt.show()\n",
    "\n",
    "Tumor_Volume = filtered_df['Tumor Volume (mm3)']\n",
    "fig1, ax1 = plt.subplots()\n",
    "ax1.set_title('Tumor Volume of Mice')\n",
    "ax1.set_ylabel('Tumor Volume')\n",
    "ax1.boxplot(Tumor_Volume)\n",
    "plt.show()\n",
    "\n",
    "Tumor_Volume = filtered_df['Tumor Volume (mm3)']\n",
    "fig1, ax1 = plt.subplots()\n",
    "ax1.set_title('Tumor Volume of Mice')\n",
    "ax1.set_ylabel('Tumor Volume')\n",
    "ax1.boxplot(Tumor_Volume)\n",
    "plt.show()"
   ]
  },
  {
   "cell_type": "markdown",
   "metadata": {},
   "source": [
    "## Line and scatter plots"
   ]
  },
  {
   "cell_type": "code",
   "execution_count": 5,
   "metadata": {},
   "outputs": [
    {
     "ename": "NameError",
     "evalue": "name 'df' is not defined",
     "output_type": "error",
     "traceback": [
      "\u001b[1;31m---------------------------------------------------------------------------\u001b[0m",
      "\u001b[1;31mNameError\u001b[0m                                 Traceback (most recent call last)",
      "\u001b[1;32m<ipython-input-5-4a98220a9625>\u001b[0m in \u001b[0;36m<module>\u001b[1;34m\u001b[0m\n\u001b[0;32m      1\u001b[0m \u001b[1;31m# Generate a line plot of time point versus tumor volume for a mouse treated with Capomulin.\u001b[0m\u001b[1;33m\u001b[0m\u001b[1;33m\u001b[0m\u001b[1;33m\u001b[0m\u001b[0m\n\u001b[1;32m----> 2\u001b[1;33m \u001b[0mmouse_1_vol\u001b[0m \u001b[1;33m=\u001b[0m \u001b[1;33m(\u001b[0m\u001b[0mdf\u001b[0m\u001b[1;33m[\u001b[0m\u001b[1;34m'Tumor Volume (mm3)'\u001b[0m\u001b[1;33m]\u001b[0m\u001b[1;33m[\u001b[0m\u001b[1;36m10\u001b[0m\u001b[1;33m:\u001b[0m\u001b[1;36m20\u001b[0m\u001b[1;33m]\u001b[0m\u001b[1;33m.\u001b[0m\u001b[0mto_list\u001b[0m\u001b[1;33m(\u001b[0m\u001b[1;33m)\u001b[0m\u001b[1;33m)\u001b[0m\u001b[1;33m\u001b[0m\u001b[1;33m\u001b[0m\u001b[0m\n\u001b[0m\u001b[0;32m      3\u001b[0m \u001b[0mmouse_1_time\u001b[0m \u001b[1;33m=\u001b[0m \u001b[1;33m(\u001b[0m\u001b[0mdf\u001b[0m\u001b[1;33m[\u001b[0m\u001b[1;34m'Timepoint'\u001b[0m\u001b[1;33m]\u001b[0m\u001b[1;33m[\u001b[0m\u001b[1;36m10\u001b[0m\u001b[1;33m:\u001b[0m\u001b[1;36m20\u001b[0m\u001b[1;33m]\u001b[0m\u001b[1;33m.\u001b[0m\u001b[0mto_list\u001b[0m\u001b[1;33m(\u001b[0m\u001b[1;33m)\u001b[0m\u001b[1;33m)\u001b[0m\u001b[1;33m\u001b[0m\u001b[1;33m\u001b[0m\u001b[0m\n\u001b[0;32m      4\u001b[0m \u001b[0mplt\u001b[0m\u001b[1;33m.\u001b[0m\u001b[0mplot\u001b[0m\u001b[1;33m(\u001b[0m\u001b[0mmouse_1_time\u001b[0m\u001b[1;33m,\u001b[0m \u001b[0mmouse_1_vol\u001b[0m\u001b[1;33m)\u001b[0m\u001b[1;33m\u001b[0m\u001b[1;33m\u001b[0m\u001b[0m\n\u001b[0;32m      5\u001b[0m \u001b[0mplt\u001b[0m\u001b[1;33m.\u001b[0m\u001b[0mxlabel\u001b[0m\u001b[1;33m(\u001b[0m\u001b[1;34m\"Timepoint\"\u001b[0m\u001b[1;33m)\u001b[0m\u001b[1;33m\u001b[0m\u001b[1;33m\u001b[0m\u001b[0m\n",
      "\u001b[1;31mNameError\u001b[0m: name 'df' is not defined"
     ]
    }
   ],
   "source": [
    "# Generate a line plot of time point versus tumor volume for a mouse treated with Capomulin.\n",
    "mouse_1_vol = (df['Tumor Volume (mm3)'][10:20].to_list())\n",
    "mouse_1_time = (df['Timepoint'][10:20].to_list())\n",
    "plt.plot(mouse_1_time, mouse_1_vol)\n",
    "plt.xlabel(\"Timepoint\")\n",
    "plt.ylabel(\"Tumor Volume (mm3)\")\n",
    "plt.title(\"Tumor Volume of a Mouse over Time\")"
   ]
  },
  {
   "cell_type": "code",
   "execution_count": 83,
   "metadata": {},
   "outputs": [
    {
     "data": {
      "text/plain": [
       "Text(0.5, 1.0, 'Mouse Weights against Average Tumor Volumes')"
      ]
     },
     "execution_count": 83,
     "metadata": {},
     "output_type": "execute_result"
    },
    {
     "data": {
      "image/png": "[encoded data removed]",
      "text/plain": [
       "<Figure size 432x288 with 1 Axes>"
      ]
     },
     "metadata": {
      "needs_background": "light"
     },
     "output_type": "display_data"
    }
   ],
   "source": [
    "# Generate a scatter plot of mouse weight versus average tumor volume for the Capomulin regimen.\n",
    "mouse_sub_list = df[df['Drug Regimen'] == 'Capomulin']\n",
    "mouse_sub_list_id = mouse_sub_list['Mouse ID'].unique()\n",
    "mouse_sub_list_avg_vol = pd.Series([mouse_group.get_group(m)['Tumor Volume (mm3)'].mean() for m in mouse_sub_list_id])\n",
    "mouse_sub_list_weight = pd.Series([mouse_group.get_group(m)['Weight (g)'].sum()/mouse_group.get_group(m)['Weight (g)'].count() for m in mouse_sub_list_id])\n",
    "plt.scatter(mouse_sub_list_avg_vol, mouse_sub_list_weight)\n",
    "plt.xlabel(\"Tumor Volume (mm3)\")\n",
    "plt.ylabel(\"Mouse Weight (g)\")\n",
    "plt.title(\"Mouse Weights against Average Tumor Volumes\")\n"
   ]
  },
  {
   "cell_type": "code",
   "execution_count": 9,
   "metadata": {},
   "outputs": [
    {
     "ename": "NameError",
     "evalue": "name 'Capomulin_df' is not defined",
     "output_type": "error",
     "traceback": [
      "\u001b[1;31m---------------------------------------------------------------------------\u001b[0m",
      "\u001b[1;31mNameError\u001b[0m                                 Traceback (most recent call last)",
      "\u001b[1;32m<ipython-input-9-9b68a20b457a>\u001b[0m in \u001b[0;36m<module>\u001b[1;34m\u001b[0m\n\u001b[0;32m      2\u001b[0m \u001b[1;33m\u001b[0m\u001b[0m\n\u001b[0;32m      3\u001b[0m \u001b[1;31m# Pull values for x and y values\u001b[0m\u001b[1;33m\u001b[0m\u001b[1;33m\u001b[0m\u001b[1;33m\u001b[0m\u001b[0m\n\u001b[1;32m----> 4\u001b[1;33m \u001b[0mmouse_weight\u001b[0m \u001b[1;33m=\u001b[0m \u001b[0mCapomulin_df\u001b[0m\u001b[1;33m.\u001b[0m\u001b[0mgroupby\u001b[0m\u001b[1;33m(\u001b[0m\u001b[0mCapomulin_df\u001b[0m\u001b[1;33m[\u001b[0m\u001b[1;34m\"Mouse ID\"\u001b[0m\u001b[1;33m]\u001b[0m\u001b[1;33m)\u001b[0m\u001b[1;33m[\u001b[0m\u001b[1;34m\"Weight (g)\"\u001b[0m\u001b[1;33m]\u001b[0m\u001b[1;33m.\u001b[0m\u001b[0mmean\u001b[0m\u001b[1;33m(\u001b[0m\u001b[1;33m)\u001b[0m\u001b[1;33m\u001b[0m\u001b[1;33m\u001b[0m\u001b[0m\n\u001b[0m\u001b[0;32m      5\u001b[0m \u001b[0mtumor_volume\u001b[0m \u001b[1;33m=\u001b[0m \u001b[0mCapomulin_df\u001b[0m\u001b[1;33m.\u001b[0m\u001b[0mgroupby\u001b[0m\u001b[1;33m(\u001b[0m\u001b[0mCapomulin_df\u001b[0m\u001b[1;33m[\u001b[0m\u001b[1;34m\"Mouse ID\"\u001b[0m\u001b[1;33m]\u001b[0m\u001b[1;33m)\u001b[0m\u001b[1;33m[\u001b[0m\u001b[1;34m\"Tumor Volume (mm3)\"\u001b[0m\u001b[1;33m]\u001b[0m\u001b[1;33m.\u001b[0m\u001b[0mmean\u001b[0m\u001b[1;33m(\u001b[0m\u001b[1;33m)\u001b[0m\u001b[1;33m\u001b[0m\u001b[1;33m\u001b[0m\u001b[0m\n\u001b[0;32m      6\u001b[0m \u001b[1;33m\u001b[0m\u001b[0m\n",
      "\u001b[1;31mNameError\u001b[0m: name 'Capomulin_df' is not defined"
     ]
    }
   ],
   "source": [
    "# Calculate the correlation coefficient and linear regression model for mouse weight and average tumor volume for the Capomulin regimen \n",
    "\n",
    "# Pull values for x and y values\n",
    "mouse_weight = Capomulin_df.groupby(Capomulin_df[\"Mouse ID\"])[\"Weight (g)\"].mean()\n",
    "tumor_volume = Capomulin_df.groupby(Capomulin_df[\"Mouse ID\"])[\"Tumor Volume (mm3)\"].mean()\n",
    "\n",
    "# Perform a linear regression on year versus violent crime rate\n",
    "slope, int, r, p, std_err = st.linregress(mouse_weight, tumor_volume)\n",
    "      \n",
    "# Create equation of line to calculate predicted violent crime rate\n",
    "fit = slope * mouse_weight + int\n",
    "\n",
    "# Plot the linear model on top of scatter plot \n",
    "plt.scatter(mouse_weight,tumor_volume)\n",
    "plt.xlabel(\"Weight of Mouse\")\n",
    "plt.ylabel(\"Tumor Volume\")\n",
    "plt.plot(mouse_weight,fit,\"--\")\n",
    "plt.xticks(mouse_weight, rotation=90)\n",
    "plt.show()\n",
    "\n",
    "# Caculate correlation coefficient\n",
    "corr = round(st.pearsonr(mouse_weight,tumor_volume)[0],2)\n",
    "print(f'The correlation between weight and tumor value is {corr}')"
   ]
  },
  {
   "cell_type": "code",
   "execution_count": 8,
   "metadata": {},
   "outputs": [
    {
     "ename": "NameError",
     "evalue": "name 'Capomulin_df' is not defined",
     "output_type": "error",
     "traceback": [
      "\u001b[1;31m---------------------------------------------------------------------------\u001b[0m",
      "\u001b[1;31mNameError\u001b[0m                                 Traceback (most recent call last)",
      "\u001b[1;32m<ipython-input-8-9b68a20b457a>\u001b[0m in \u001b[0;36m<module>\u001b[1;34m\u001b[0m\n\u001b[0;32m      2\u001b[0m \u001b[1;33m\u001b[0m\u001b[0m\n\u001b[0;32m      3\u001b[0m \u001b[1;31m# Pull values for x and y values\u001b[0m\u001b[1;33m\u001b[0m\u001b[1;33m\u001b[0m\u001b[1;33m\u001b[0m\u001b[0m\n\u001b[1;32m----> 4\u001b[1;33m \u001b[0mmouse_weight\u001b[0m \u001b[1;33m=\u001b[0m \u001b[0mCapomulin_df\u001b[0m\u001b[1;33m.\u001b[0m\u001b[0mgroupby\u001b[0m\u001b[1;33m(\u001b[0m\u001b[0mCapomulin_df\u001b[0m\u001b[1;33m[\u001b[0m\u001b[1;34m\"Mouse ID\"\u001b[0m\u001b[1;33m]\u001b[0m\u001b[1;33m)\u001b[0m\u001b[1;33m[\u001b[0m\u001b[1;34m\"Weight (g)\"\u001b[0m\u001b[1;33m]\u001b[0m\u001b[1;33m.\u001b[0m\u001b[0mmean\u001b[0m\u001b[1;33m(\u001b[0m\u001b[1;33m)\u001b[0m\u001b[1;33m\u001b[0m\u001b[1;33m\u001b[0m\u001b[0m\n\u001b[0m\u001b[0;32m      5\u001b[0m \u001b[0mtumor_volume\u001b[0m \u001b[1;33m=\u001b[0m \u001b[0mCapomulin_df\u001b[0m\u001b[1;33m.\u001b[0m\u001b[0mgroupby\u001b[0m\u001b[1;33m(\u001b[0m\u001b[0mCapomulin_df\u001b[0m\u001b[1;33m[\u001b[0m\u001b[1;34m\"Mouse ID\"\u001b[0m\u001b[1;33m]\u001b[0m\u001b[1;33m)\u001b[0m\u001b[1;33m[\u001b[0m\u001b[1;34m\"Tumor Volume (mm3)\"\u001b[0m\u001b[1;33m]\u001b[0m\u001b[1;33m.\u001b[0m\u001b[0mmean\u001b[0m\u001b[1;33m(\u001b[0m\u001b[1;33m)\u001b[0m\u001b[1;33m\u001b[0m\u001b[1;33m\u001b[0m\u001b[0m\n\u001b[0;32m      6\u001b[0m \u001b[1;33m\u001b[0m\u001b[0m\n",
      "\u001b[1;31mNameError\u001b[0m: name 'Capomulin_df' is not defined"
     ]
    }
   ],
   "source": [
    "# Calculate the correlation coefficient and linear regression model for mouse weight and average tumor volume for the Capomulin regimen \n",
    "\n",
    "# Pull values for x and y values\n",
    "mouse_weight = Capomulin_df.groupby(Capomulin_df[\"Mouse ID\"])[\"Weight (g)\"].mean()\n",
    "tumor_volume = Capomulin_df.groupby(Capomulin_df[\"Mouse ID\"])[\"Tumor Volume (mm3)\"].mean()\n",
    "\n",
    "# Perform a linear regression on year versus violent crime rate\n",
    "slope, int, r, p, std_err = st.linregress(mouse_weight, tumor_volume)\n",
    "      \n",
    "# Create equation of line to calculate predicted violent crime rate\n",
    "fit = slope * mouse_weight + int\n",
    "\n",
    "# Plot the linear model on top of scatter plot \n",
    "plt.scatter(mouse_weight,tumor_volume)\n",
    "plt.xlabel(\"Weight of Mouse\")\n",
    "plt.ylabel(\"Tumor Volume\")\n",
    "plt.plot(mouse_weight,fit,\"--\")\n",
    "plt.xticks(mouse_weight, rotation=90)\n",
    "plt.show()\n",
    "\n",
    "# Caculate correlation coefficient\n",
    "corr = round(st.pearsonr(mouse_weight,tumor_volume)[0],2)\n",
    "print(f'The correlation between weight and tumor value is {corr}')\n"
   ]
  },
  {
   "cell_type": "code",
   "execution_count": 91,
   "metadata": {},
   "outputs": [
    {
     "ename": "NameError",
     "evalue": "name 'capomulin_df' is not defined",
     "output_type": "error",
     "traceback": [
      "\u001b[1;31m---------------------------------------------------------------------------\u001b[0m",
      "\u001b[1;31mNameError\u001b[0m                                 Traceback (most recent call last)",
      "\u001b[1;32m<ipython-input-91-3e7727a72d6b>\u001b[0m in \u001b[0;36m<module>\u001b[1;34m\u001b[0m\n\u001b[0;32m      1\u001b[0m \u001b[1;31m#calculate the final tumor value across capomulin, ramicane, infubinol, ceftamin\u001b[0m\u001b[1;33m\u001b[0m\u001b[1;33m\u001b[0m\u001b[1;33m\u001b[0m\u001b[0m\n\u001b[1;32m----> 2\u001b[1;33m \u001b[0mcap_max\u001b[0m \u001b[1;33m=\u001b[0m \u001b[0mcapomulin_df\u001b[0m\u001b[1;33m[\u001b[0m\u001b[1;34m'Tumor Volume (mm3)'\u001b[0m\u001b[1;33m]\u001b[0m\u001b[1;33m.\u001b[0m\u001b[0mmin\u001b[0m\u001b[1;33m(\u001b[0m\u001b[1;33m)\u001b[0m\u001b[1;33m\u001b[0m\u001b[1;33m\u001b[0m\u001b[0m\n\u001b[0m\u001b[0;32m      3\u001b[0m \u001b[1;33m\u001b[0m\u001b[0m\n\u001b[0;32m      4\u001b[0m \u001b[0mram_max\u001b[0m \u001b[1;33m=\u001b[0m \u001b[0mramicane_df\u001b[0m\u001b[1;33m[\u001b[0m\u001b[1;34m'Tumor Volume (mm3)'\u001b[0m\u001b[1;33m]\u001b[0m\u001b[1;33m.\u001b[0m\u001b[0mmin\u001b[0m\u001b[1;33m(\u001b[0m\u001b[1;33m)\u001b[0m\u001b[1;33m\u001b[0m\u001b[1;33m\u001b[0m\u001b[0m\n\u001b[0;32m      5\u001b[0m \u001b[1;33m\u001b[0m\u001b[0m\n",
      "\u001b[1;31mNameError\u001b[0m: name 'capomulin_df' is not defined"
     ]
    }
   ],
   "source": [
    "#calculate the final tumor value across capomulin, ramicane, infubinol, ceftamin\n",
    "cap_max = capomulin_df['Tumor Volume (mm3)'].min()\n",
    "\n",
    "ram_max = ramicane_df['Tumor Volume (mm3)'].min()\n",
    "\n",
    "inf_max = infubinol_df['Tumor Volume (mm3)'].min()\n",
    "\n",
    "ceft_max = ceftamin_df['Tumor Volume (mm3)'].min()"
   ]
  },
  {
   "cell_type": "code",
   "execution_count": 95,
   "metadata": {},
   "outputs": [
    {
     "ename": "NameError",
     "evalue": "name 'Capomulin_df' is not defined",
     "output_type": "error",
     "traceback": [
      "\u001b[1;31m---------------------------------------------------------------------------\u001b[0m",
      "\u001b[1;31mNameError\u001b[0m                                 Traceback (most recent call last)",
      "\u001b[1;32m<ipython-input-95-9b68a20b457a>\u001b[0m in \u001b[0;36m<module>\u001b[1;34m\u001b[0m\n\u001b[0;32m      2\u001b[0m \u001b[1;33m\u001b[0m\u001b[0m\n\u001b[0;32m      3\u001b[0m \u001b[1;31m# Pull values for x and y values\u001b[0m\u001b[1;33m\u001b[0m\u001b[1;33m\u001b[0m\u001b[1;33m\u001b[0m\u001b[0m\n\u001b[1;32m----> 4\u001b[1;33m \u001b[0mmouse_weight\u001b[0m \u001b[1;33m=\u001b[0m \u001b[0mCapomulin_df\u001b[0m\u001b[1;33m.\u001b[0m\u001b[0mgroupby\u001b[0m\u001b[1;33m(\u001b[0m\u001b[0mCapomulin_df\u001b[0m\u001b[1;33m[\u001b[0m\u001b[1;34m\"Mouse ID\"\u001b[0m\u001b[1;33m]\u001b[0m\u001b[1;33m)\u001b[0m\u001b[1;33m[\u001b[0m\u001b[1;34m\"Weight (g)\"\u001b[0m\u001b[1;33m]\u001b[0m\u001b[1;33m.\u001b[0m\u001b[0mmean\u001b[0m\u001b[1;33m(\u001b[0m\u001b[1;33m)\u001b[0m\u001b[1;33m\u001b[0m\u001b[1;33m\u001b[0m\u001b[0m\n\u001b[0m\u001b[0;32m      5\u001b[0m \u001b[0mtumor_volume\u001b[0m \u001b[1;33m=\u001b[0m \u001b[0mCapomulin_df\u001b[0m\u001b[1;33m.\u001b[0m\u001b[0mgroupby\u001b[0m\u001b[1;33m(\u001b[0m\u001b[0mCapomulin_df\u001b[0m\u001b[1;33m[\u001b[0m\u001b[1;34m\"Mouse ID\"\u001b[0m\u001b[1;33m]\u001b[0m\u001b[1;33m)\u001b[0m\u001b[1;33m[\u001b[0m\u001b[1;34m\"Tumor Volume (mm3)\"\u001b[0m\u001b[1;33m]\u001b[0m\u001b[1;33m.\u001b[0m\u001b[0mmean\u001b[0m\u001b[1;33m(\u001b[0m\u001b[1;33m)\u001b[0m\u001b[1;33m\u001b[0m\u001b[1;33m\u001b[0m\u001b[0m\n\u001b[0;32m      6\u001b[0m \u001b[1;33m\u001b[0m\u001b[0m\n",
      "\u001b[1;31mNameError\u001b[0m: name 'Capomulin_df' is not defined"
     ]
    }
   ],
   "source": [
    "# Calculate the correlation coefficient and linear regression model for mouse weight and average tumor volume for the Capomulin regimen \n",
    "\n",
    "# Pull values for x and y values\n",
    "mouse_weight = Capomulin_df.groupby(Capomulin_df[\"Mouse ID\"])[\"Weight (g)\"].mean()\n",
    "tumor_volume = Capomulin_df.groupby(Capomulin_df[\"Mouse ID\"])[\"Tumor Volume (mm3)\"].mean()\n",
    "\n",
    "# Perform a linear regression on year versus violent crime rate\n",
    "slope, int, r, p, std_err = st.linregress(mouse_weight, tumor_volume)\n",
    "      \n",
    "# Create equation of line to calculate predicted violent crime rate\n",
    "fit = slope * mouse_weight + int\n",
    "\n",
    "# Plot the linear model on top of scatter plot \n",
    "plt.scatter(mouse_weight,tumor_volume)\n",
    "plt.xlabel(\"Weight of Mouse\")\n",
    "plt.ylabel(\"Tumor Volume\")\n",
    "plt.plot(mouse_weight,fit,\"--\")\n",
    "plt.xticks(mouse_weight, rotation=90)\n",
    "plt.show()\n",
    "\n",
    "# Caculate correlation coefficient\n",
    "corr = round(st.pearsonr(mouse_weight,tumor_volume)[0],2)\n",
    "print(f'The correlation between weight and tumor value is {corr}')"
   ]
  }
 ],
 "metadata": {
  "anaconda-cloud": {},
  "kernelspec": {
   "display_name": "Python 3",
   "language": "python",
   "name": "python3"
  },
  "language_info": {
   "codemirror_mode": {
    "name": "ipython",
    "version": 3
   },
   "file_extension": ".py",
   "mimetype": "text/x-python",
   "name": "python",
   "nbconvert_exporter": "python",
   "pygments_lexer": "ipython3",
   "version": "3.8.3"
  }
 },
 "nbformat": 4,
 "nbformat_minor": 2
}
